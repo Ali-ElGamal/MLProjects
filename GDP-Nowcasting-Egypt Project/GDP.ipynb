{
  "nbformat": 4,
  "nbformat_minor": 0,
  "metadata": {
    "colab": {
      "provenance": []
    },
    "kernelspec": {
      "name": "python3",
      "display_name": "Python 3"
    },
    "language_info": {
      "name": "python"
    }
  },
  "cells": [
    {
      "cell_type": "markdown",
      "source": [
        "**Step 1: Data Cleansing and Pre-processing**"
      ],
      "metadata": {
        "id": "C-BJqgYvJkXI"
      }
    },
    {
      "cell_type": "code",
      "execution_count": 1,
      "metadata": {
        "colab": {
          "base_uri": "https://localhost:8080/"
        },
        "id": "suh5KBHiEfhh",
        "outputId": "cd48f817-4552-4079-bee0-dc06b86f3103"
      },
      "outputs": [
        {
          "output_type": "stream",
          "name": "stdout",
          "text": [
            "   Unnamed: 0        date  Arts & Entertainment  Autos & Vehicles  \\\n",
            "0           0  2004-01-01                     7                 5   \n",
            "1           1  2004-02-01                     7                 8   \n",
            "2           2  2004-03-01                     8                 7   \n",
            "3           3  2004-04-01                     8                 9   \n",
            "4           4  2004-05-01                     8                 7   \n",
            "\n",
            "   Beauty & Fitness  Books & Literature  Business & Industrial  \\\n",
            "0                 7                  19                     18   \n",
            "1                 7                  18                     18   \n",
            "2                 8                  27                     26   \n",
            "3                10                  29                     20   \n",
            "4                 9                  26                     20   \n",
            "\n",
            "   Computers & Electronics  Finance  Food & Drink  ...  News  \\\n",
            "0                       29        6             7  ...     8   \n",
            "1                       34        4             7  ...     7   \n",
            "2                       39        6             7  ...    10   \n",
            "3                       34        5             8  ...     9   \n",
            "4                       36        5             8  ...    10   \n",
            "\n",
            "   Online Communities  People & Society  Pets & Animals  Real Estate  \\\n",
            "0                   2                10              10            6   \n",
            "1                   2                 9               7            6   \n",
            "2                   3                13               7            4   \n",
            "3                   3                13              12            5   \n",
            "4                   3                12               5            8   \n",
            "\n",
            "   Reference  Science  Shopping  Sports  Travel  \n",
            "0          9       28        13       3      13  \n",
            "1          8       39        13       3      14  \n",
            "2         10       41        15       3      18  \n",
            "3         11       37        14       3      16  \n",
            "4         12       37        17       3      13  \n",
            "\n",
            "[5 rows x 27 columns]\n",
            "   Unnamed: 0        time       value\n",
            "0           0  2007-07-01  188.362251\n",
            "1           1  2007-08-01  211.070833\n",
            "2           2  2007-09-01  194.546916\n",
            "3           3  2007-10-01  184.281476\n",
            "4           4  2007-11-01  219.769682\n"
          ]
        }
      ],
      "source": [
        "\n",
        "import pandas as pd\n",
        "\n",
        "#loading the data\n",
        "google_trends_data = pd.read_csv('monthly_main_category.csv')\n",
        "gdp_data = pd.read_csv('Monthy_GDP_MI.csv')\n",
        "\n",
        "print(google_trends_data.head())\n",
        "print(gdp_data.head())"
      ]
    },
    {
      "cell_type": "markdown",
      "source": [
        "#Dropping unnecessary columns and Renaming columns in google_trends_data"
      ],
      "metadata": {
        "id": "C3Ib8RIF4zKL"
      }
    },
    {
      "cell_type": "code",
      "source": [
        "\n",
        "google_trends_data = google_trends_data.drop(columns=[\"Unnamed: 0\"])\n",
        "gdp_data = gdp_data.drop(columns=[\"Unnamed: 0\"])\n",
        "\n",
        "\n",
        "\n",
        "gdp_data = gdp_data.rename(columns={\"time\": \"date\", \"value\": \"GDP\"})\n"
      ],
      "metadata": {
        "id": "xr-uRpRgEnpR"
      },
      "execution_count": 2,
      "outputs": []
    },
    {
      "cell_type": "markdown",
      "source": [
        "# Convert date columns to datetime format"
      ],
      "metadata": {
        "id": "gsLXjacM47uN"
      }
    },
    {
      "cell_type": "code",
      "source": [
        "\n",
        "google_trends_data['date'] = pd.to_datetime(google_trends_data['date'])\n",
        "gdp_data['date'] = pd.to_datetime(gdp_data['date'])"
      ],
      "metadata": {
        "id": "i93hY1UtGXy6"
      },
      "execution_count": 3,
      "outputs": []
    },
    {
      "cell_type": "markdown",
      "source": [
        "# Filter google_trends_data to match GDP data's timeframe (2007 onward)"
      ],
      "metadata": {
        "id": "Iya4UtH84-PN"
      }
    },
    {
      "cell_type": "code",
      "source": [
        "\n",
        "google_trends_data = google_trends_data[google_trends_data['date'] >= gdp_data['date'].min()]\n"
      ],
      "metadata": {
        "id": "YAy0Fy5sGYX0"
      },
      "execution_count": 4,
      "outputs": []
    },
    {
      "cell_type": "markdown",
      "source": [
        "# Check for missing values"
      ],
      "metadata": {
        "id": "CfshUlKk5AgZ"
      }
    },
    {
      "cell_type": "code",
      "source": [
        "\n",
        "print(google_trends_data.isnull().sum())\n",
        "print(gdp_data.isnull().sum())"
      ],
      "metadata": {
        "colab": {
          "base_uri": "https://localhost:8080/"
        },
        "id": "5hQyam9hHWAp",
        "outputId": "49d993cd-084c-4d8f-b749-17f3a0b5b98e"
      },
      "execution_count": 5,
      "outputs": [
        {
          "output_type": "stream",
          "name": "stdout",
          "text": [
            "date                       0\n",
            "Arts & Entertainment       0\n",
            "Autos & Vehicles           0\n",
            "Beauty & Fitness           0\n",
            "Books & Literature         0\n",
            "Business & Industrial      0\n",
            "Computers & Electronics    0\n",
            "Finance                    0\n",
            "Food & Drink               0\n",
            "Games                      0\n",
            "Health                     0\n",
            "Hobbies & Leisure          0\n",
            "Home & Garden              0\n",
            "Internet & Telecom         0\n",
            "Jobs & Education           0\n",
            "Law & Government           0\n",
            "News                       0\n",
            "Online Communities         0\n",
            "People & Society           0\n",
            "Pets & Animals             0\n",
            "Real Estate                0\n",
            "Reference                  0\n",
            "Science                    0\n",
            "Shopping                   0\n",
            "Sports                     0\n",
            "Travel                     0\n",
            "dtype: int64\n",
            "date    0\n",
            "GDP     0\n",
            "dtype: int64\n"
          ]
        }
      ]
    },
    {
      "cell_type": "code",
      "source": [
        "merged_data = pd.merge(google_trends_data, gdp_data, on='date', how='inner')\n",
        "merged_data.to_csv(\"merged_data.csv\", index=False)\n"
      ],
      "metadata": {
        "id": "vI8pw1cmIsPJ"
      },
      "execution_count": 6,
      "outputs": []
    },
    {
      "cell_type": "markdown",
      "source": [
        "**Step 2: Correlation Analysis and Feature Selection**"
      ],
      "metadata": {
        "id": "sihq1unWJxJN"
      }
    },
    {
      "cell_type": "code",
      "source": [
        "correlation_matrix = merged_data.corr()\n",
        "gdp_correlation = correlation_matrix[\"GDP\"].sort_values(ascending=False)\n",
        "\n",
        "print(gdp_correlation.head(10))"
      ],
      "metadata": {
        "colab": {
          "base_uri": "https://localhost:8080/"
        },
        "id": "cC6IymxhJBfT",
        "outputId": "2bd324ac-36c8-40b7-d66e-59027a7299c4"
      },
      "execution_count": 7,
      "outputs": [
        {
          "output_type": "stream",
          "name": "stdout",
          "text": [
            "GDP                      1.000000\n",
            "Health                   0.929105\n",
            "Reference                0.924326\n",
            "date                     0.920524\n",
            "Business & Industrial    0.903274\n",
            "Home & Garden            0.898296\n",
            "Shopping                 0.873645\n",
            "Real Estate              0.864225\n",
            "Finance                  0.841132\n",
            "Food & Drink             0.817749\n",
            "Name: GDP, dtype: float64\n"
          ]
        }
      ]
    },
    {
      "cell_type": "markdown",
      "source": [
        "Determining Best features using LASSO and elastic net"
      ],
      "metadata": {
        "id": "BXZekqn65R2T"
      }
    },
    {
      "cell_type": "code",
      "source": [
        "from sklearn.preprocessing import StandardScaler\n",
        "from sklearn.linear_model import Lasso, ElasticNet\n",
        "from sklearn.model_selection import train_test_split\n",
        "import numpy as np\n",
        "\n",
        "\n",
        "X = merged_data.drop(columns=['GDP', 'date'])\n",
        "y = merged_data['GDP']\n",
        "\n",
        "# Scaling features\n",
        "scaler = StandardScaler()\n",
        "X_scaled = scaler.fit_transform(X)\n",
        "\n",
        "# Splitting the data\n",
        "X_train, X_test, y_train, y_test = train_test_split(X_scaled, y, test_size=0.2, random_state=42)\n",
        "\n",
        "# LASSO\n",
        "lasso_model = Lasso(alpha=0.1, max_iter=10000)\n",
        "lasso_model.fit(X_train, y_train)\n",
        "lasso_selected_features = X.columns[(lasso_model.coef_ != 0)]\n",
        "\n",
        "# Elastic Net\n",
        "elastic_net_model = ElasticNet(alpha=0.1, l1_ratio=0.5, max_iter=10000)\n",
        "elastic_net_model.fit(X_train, y_train)\n",
        "elastic_net_selected_features = X.columns[(elastic_net_model.coef_ != 0)]\n",
        "\n",
        "print(\"LASSO Selected Features:\", lasso_selected_features)\n",
        "print(\"Elastic Net Selected Features:\", elastic_net_selected_features)\n"
      ],
      "metadata": {
        "colab": {
          "base_uri": "https://localhost:8080/"
        },
        "id": "-WzVbsAZarO0",
        "outputId": "803abedf-1188-4f51-f823-ad186039f0af"
      },
      "execution_count": 8,
      "outputs": [
        {
          "output_type": "stream",
          "name": "stdout",
          "text": [
            "LASSO Selected Features: Index(['Arts & Entertainment', 'Autos & Vehicles', 'Books & Literature',\n",
            "       'Business & Industrial', 'Computers & Electronics', 'Finance',\n",
            "       'Food & Drink', 'Health', 'Hobbies & Leisure', 'Home & Garden',\n",
            "       'Jobs & Education', 'Law & Government', 'News', 'Online Communities',\n",
            "       'People & Society', 'Pets & Animals', 'Real Estate', 'Reference',\n",
            "       'Science', 'Shopping', 'Sports', 'Travel'],\n",
            "      dtype='object')\n",
            "Elastic Net Selected Features: Index(['Arts & Entertainment', 'Beauty & Fitness', 'Business & Industrial',\n",
            "       'Computers & Electronics', 'Finance', 'Food & Drink', 'Games', 'Health',\n",
            "       'Hobbies & Leisure', 'Home & Garden', 'Internet & Telecom',\n",
            "       'Jobs & Education', 'Law & Government', 'News', 'Online Communities',\n",
            "       'Pets & Animals', 'Real Estate', 'Reference', 'Science', 'Sports'],\n",
            "      dtype='object')\n"
          ]
        }
      ]
    },
    {
      "cell_type": "code",
      "source": [
        "from sklearn.linear_model import Ridge\n",
        "\n",
        "# Apply Ridge Regression\n",
        "ridge = Ridge(alpha=1.0)\n",
        "ridge.fit(X_train, y_train)\n",
        "\n",
        "# Display Ridge coefficients for all features\n",
        "ridge_coefficients = ridge.coef_\n",
        "ridge_features = pd.DataFrame({'Feature': X.columns, 'Coefficient': ridge_coefficients})\n",
        "ridge_features = ridge_features.sort_values(by='Coefficient', ascending=False)\n",
        "print(\"Ridge Feature Coefficients:\\n\", ridge_features.head(10))\n"
      ],
      "metadata": {
        "colab": {
          "base_uri": "https://localhost:8080/"
        },
        "id": "FBb8FGMDbfks",
        "outputId": "72f5410d-0cfa-45cc-fdf9-c23517951025"
      },
      "execution_count": 9,
      "outputs": [
        {
          "output_type": "stream",
          "name": "stdout",
          "text": [
            "Ridge Feature Coefficients:\n",
            "                Feature  Coefficient\n",
            "11       Home & Garden    18.913274\n",
            "9               Health    18.107352\n",
            "20           Reference    17.383463\n",
            "7         Food & Drink     6.004165\n",
            "16  Online Communities     5.569921\n",
            "19         Real Estate     4.047133\n",
            "23              Sports     3.986402\n",
            "8                Games     3.405092\n",
            "18      Pets & Animals     3.302492\n",
            "21             Science     3.193865\n"
          ]
        }
      ]
    },
    {
      "cell_type": "markdown",
      "source": [
        "Checking feature importance"
      ],
      "metadata": {
        "id": "tOmptSgp5qv2"
      }
    },
    {
      "cell_type": "code",
      "source": [
        "from sklearn.ensemble import RandomForestRegressor\n",
        "\n",
        "# Apply Random Forest Regressor and compute feature importances\n",
        "rf = RandomForestRegressor(n_estimators=100, random_state=42)\n",
        "rf.fit(X_train, y_train)\n",
        "\n",
        "# Get feature importances\n",
        "rf_importances = rf.feature_importances_\n",
        "rf_features = pd.DataFrame({'Feature': X.columns, 'Importance': rf_importances})\n",
        "rf_features = rf_features.sort_values(by='Importance', ascending=False)\n",
        "print(\"Random Forest Feature Importances:\\n\", rf_features.head(10))\n"
      ],
      "metadata": {
        "colab": {
          "base_uri": "https://localhost:8080/"
        },
        "id": "7tQOxLaSbwSY",
        "outputId": "da2d0247-e351-4020-f948-9052afdc2cc9"
      },
      "execution_count": 10,
      "outputs": [
        {
          "output_type": "stream",
          "name": "stdout",
          "text": [
            "Random Forest Feature Importances:\n",
            "                   Feature  Importance\n",
            "9                  Health    0.332244\n",
            "20              Reference    0.197192\n",
            "6                 Finance    0.188018\n",
            "16     Online Communities    0.052793\n",
            "19            Real Estate    0.051030\n",
            "4   Business & Industrial    0.050253\n",
            "11          Home & Garden    0.027010\n",
            "0    Arts & Entertainment    0.011663\n",
            "7            Food & Drink    0.009555\n",
            "3      Books & Literature    0.009443\n"
          ]
        }
      ]
    },
    {
      "cell_type": "markdown",
      "source": [
        "# **# Selected Features Summary:**\n",
        "## LASSO Selected Features:\n",
        "\n",
        "* Total Features: 21\n",
        "* Notable Features: Arts & Entertainment, Health, Real Estate, Finance, and Sports.\n",
        "\n",
        "## Elastic Net Selected Features:\n",
        "\n",
        "* Total Features: 19\n",
        "* Notable Features: Arts & Entertainment, Health, Business & Industrial, Finance, and Real Estate.\n",
        "\n",
        "## Ridge Coefficients:\n",
        "\n",
        "* The top features with coefficients:\n",
        "1. Home & Garden (18.91)\n",
        "2. Health (18.11)\n",
        "3. Reference (17.38)\n",
        "4. Food & Drink (6.00)\n",
        "5. Online Communities (5.57)\n",
        "\n",
        "## Random Forest Feature Importances:\n",
        "\n",
        "* The top features based on importance scores:\n",
        "1. Health (0.332)\n",
        "2. Reference (0.197)\n",
        "3. Finance (0.188)\n",
        "4. Online Communities (0.052)\n",
        "\n",
        "\n",
        "\n",
        "\n",
        "# **Step 2: Combine the Selected Features**\n",
        "To build a final set of features for the nowcasting model, let’s take the features that appear most frequently across methods or have high importance/coefficients:\n",
        "\n",
        "# Core Features to Include:\n",
        "1. Health (selected by all)\n",
        "2. Reference (selected by all)\n",
        "3. Finance (selected by Random Forest and LASSO)\n",
        "4. Online Communities (selected by Ridge and Random Forest)\n",
        "5. Real Estate (selected by LASSO and Elastic Net)\n",
        "6. Arts & Entertainment (selected by LASSO and Elastic Net)\n",
        "7. Business & Industrial (selected by LASSO and Elastic Net)\n",
        "8. Food & Drink (selected by LASSO and Ridge)"
      ],
      "metadata": {
        "id": "ItOHp-0JfG2r"
      }
    },
    {
      "cell_type": "markdown",
      "source": [
        "# **Step 3: Create a Final Data Set**"
      ],
      "metadata": {
        "id": "3mHMy43ehDre"
      }
    },
    {
      "cell_type": "code",
      "source": [
        "\n",
        "selected_features = [\n",
        "    'Arts & Entertainment', 'Health', 'Reference', 'Finance',\n",
        "    'Online Communities', 'Real Estate', 'Business & Industrial',\n",
        "    'Food & Drink'\n",
        "]\n",
        "\n",
        "# Creating the final dataset with only selected features and GDP\n",
        "final_dataset = merged_data[['date', 'GDP'] + selected_features]\n",
        "\n",
        "# Checking the final dataset\n",
        "print(final_dataset.head())\n",
        "\n",
        "# Saving the final dataset\n",
        "final_dataset.to_csv(\"final_dataset.csv\", index=False)\n"
      ],
      "metadata": {
        "colab": {
          "base_uri": "https://localhost:8080/"
        },
        "id": "aYxgxCebhA0o",
        "outputId": "f54f721c-9fb9-4e0b-fc08-0f832a1d55f4"
      },
      "execution_count": 11,
      "outputs": [
        {
          "output_type": "stream",
          "name": "stdout",
          "text": [
            "        date         GDP  Arts & Entertainment  Health  Reference  Finance  \\\n",
            "0 2007-07-01  188.362251                    48      20         23       12   \n",
            "1 2007-08-01  211.070833                    50      19         23       12   \n",
            "2 2007-09-01  194.546916                    41      17         22       11   \n",
            "3 2007-10-01  184.281476                    40      19         25       11   \n",
            "4 2007-11-01  219.769682                    41      22         30       13   \n",
            "\n",
            "   Online Communities  Real Estate  Business & Industrial  Food & Drink  \n",
            "0                  16           17                     38            17  \n",
            "1                  16           15                     34            17  \n",
            "2                  15           15                     32            19  \n",
            "3                  15           14                     34            18  \n",
            "4                  14           17                     39            17  \n"
          ]
        }
      ]
    },
    {
      "cell_type": "code",
      "source": [
        "import pandas as pd\n",
        "import numpy as np\n",
        "from sklearn.model_selection import train_test_split\n",
        "from sklearn.linear_model import LinearRegression\n",
        "from sklearn.metrics import mean_squared_error, r2_score\n",
        "import statsmodels.api as sm\n",
        "\n",
        "# Load the final dataset\n",
        "final_dataset = pd.read_csv(\"final_dataset.csv\")\n",
        "\n",
        "# Define features and target variable\n",
        "X = final_dataset.drop(columns=['date', 'GDP'])\n",
        "y = final_dataset['GDP']\n",
        "\n",
        "# Split the data into training and testing sets\n",
        "X_train, X_test, y_train, y_test = train_test_split(X, y, test_size=0.2, random_state=42)\n",
        "\n",
        "# Fit the linear regression model\n",
        "model = LinearRegression()\n",
        "model.fit(X_train, y_train)\n",
        "\n",
        "# Making predictions on the test set\n",
        "y_pred = model.predict(X_test)\n",
        "\n",
        "# model evaluation\n",
        "mse = mean_squared_error(y_test, y_pred)\n",
        "r2 = r2_score(y_test, y_pred)\n",
        "\n",
        "print(f\"Mean Squared Error: {mse}\")\n",
        "print(f\"R² Score: {r2}\")\n",
        "\n",
        "\n",
        "X_train_sm = sm.add_constant(X_train)\n",
        "X_test_sm = sm.add_constant(X_test)\n",
        "\n",
        "# Fit the model\n",
        "ols_model = sm.OLS(y_train, X_train_sm).fit()\n",
        "\n",
        "# Print the summary\n",
        "print(ols_model.summary())\n"
      ],
      "metadata": {
        "colab": {
          "base_uri": "https://localhost:8080/"
        },
        "id": "IBEyJDSmiqhb",
        "outputId": "1617854d-80a8-404d-a04e-7180033422c2"
      },
      "execution_count": 12,
      "outputs": [
        {
          "output_type": "stream",
          "name": "stdout",
          "text": [
            "Mean Squared Error: 248.14441599058446\n",
            "R² Score: 0.8815964424892678\n",
            "                            OLS Regression Results                            \n",
            "==============================================================================\n",
            "Dep. Variable:                    GDP   R-squared:                       0.879\n",
            "Model:                            OLS   Adj. R-squared:                  0.872\n",
            "Method:                 Least Squares   F-statistic:                     115.6\n",
            "Date:                Tue, 29 Oct 2024   Prob (F-statistic):           1.62e-54\n",
            "Time:                        18:36:02   Log-Likelihood:                -569.00\n",
            "No. Observations:                 136   AIC:                             1156.\n",
            "Df Residuals:                     127   BIC:                             1182.\n",
            "Df Model:                           8                                         \n",
            "Covariance Type:            nonrobust                                         \n",
            "=========================================================================================\n",
            "                            coef    std err          t      P>|t|      [0.025      0.975]\n",
            "-----------------------------------------------------------------------------------------\n",
            "const                   207.2238     14.117     14.679      0.000     179.289     235.158\n",
            "Arts & Entertainment     -0.3815      0.210     -1.816      0.072      -0.797       0.034\n",
            "Health                    1.2717      0.479      2.657      0.009       0.325       2.219\n",
            "Reference                 0.9715      0.370      2.628      0.010       0.240       1.703\n",
            "Finance                   0.0293      0.191      0.154      0.878      -0.349       0.408\n",
            "Online Communities        0.1446      0.117      1.238      0.218      -0.086       0.376\n",
            "Real Estate               0.5606      0.221      2.537      0.012       0.123       0.998\n",
            "Business & Industrial    -0.7611      0.511     -1.488      0.139      -1.773       0.251\n",
            "Food & Drink             -0.0708      0.223     -0.317      0.752      -0.513       0.371\n",
            "==============================================================================\n",
            "Omnibus:                        4.072   Durbin-Watson:                   2.115\n",
            "Prob(Omnibus):                  0.131   Jarque-Bera (JB):                3.706\n",
            "Skew:                           0.284   Prob(JB):                        0.157\n",
            "Kurtosis:                       3.577   Cond. No.                     1.52e+03\n",
            "==============================================================================\n",
            "\n",
            "Notes:\n",
            "[1] Standard Errors assume that the covariance matrix of the errors is correctly specified.\n",
            "[2] The condition number is large, 1.52e+03. This might indicate that there are\n",
            "strong multicollinearity or other numerical problems.\n"
          ]
        }
      ]
    },
    {
      "cell_type": "code",
      "source": [
        "from sklearn.model_selection import cross_val_score, KFold\n",
        "from sklearn.ensemble import GradientBoostingRegressor, StackingRegressor\n",
        "from sklearn.linear_model import Lasso, Ridge\n",
        "from sklearn.decomposition import PCA\n",
        "from statsmodels.stats.outliers_influence import variance_inflation_factor\n",
        "import shap\n",
        "\n",
        "# Step 1: Calculate VIF for multicollinearity check\n",
        "X = merged_data[selected_features]\n",
        "vif_data = pd.DataFrame()\n",
        "vif_data[\"Feature\"] = X.columns\n",
        "vif_data[\"VIF\"] = [variance_inflation_factor(X.values, i) for i in range(X.shape[1])]\n",
        "print(vif_data)\n",
        "\n",
        "# Step 2: Dimensionality Reduction with PCA\n",
        "pca = PCA(n_components=5)\n",
        "X_pca = pca.fit_transform(X)\n",
        "\n",
        "# Step 3: Model Stacking\n",
        "stacked_model = StackingRegressor(\n",
        "    estimators=[\n",
        "        ('ridge', Ridge(alpha=1.0)),\n",
        "        ('lasso', Lasso(alpha=0.1)),\n",
        "        ('rf', RandomForestRegressor(n_estimators=100, random_state=0))\n",
        "    ],\n",
        "    final_estimator=GradientBoostingRegressor(n_estimators=100, random_state=0)\n",
        ")\n",
        "stacked_model.fit(X_train, y_train)\n",
        "\n",
        "# Step 4: Model Evaluation\n",
        "kfold = KFold(n_splits=10)\n",
        "cross_val_scores = cross_val_score(stacked_model, X_train, y_train, cv=kfold, scoring='neg_mean_squared_error')\n",
        "print(\"Cross-validated MSE:\", -cross_val_scores.mean())\n",
        "\n",
        "\n"
      ],
      "metadata": {
        "colab": {
          "base_uri": "https://localhost:8080/"
        },
        "id": "FBC5XQLxisS4",
        "outputId": "092b9ae6-80c6-43e9-9f80-800bc83cf0a9"
      },
      "execution_count": 13,
      "outputs": [
        {
          "output_type": "stream",
          "name": "stdout",
          "text": [
            "                 Feature         VIF\n",
            "0   Arts & Entertainment   60.807258\n",
            "1                 Health  253.157711\n",
            "2              Reference  208.540820\n",
            "3                Finance   24.755285\n",
            "4     Online Communities   13.470407\n",
            "5            Real Estate   51.984336\n",
            "6  Business & Industrial  333.456561\n",
            "7           Food & Drink   95.208096\n",
            "Cross-validated MSE: 426.99368212601377\n"
          ]
        }
      ]
    },
    {
      "cell_type": "markdown",
      "source": [
        "Augmenting the data with google Trends"
      ],
      "metadata": {
        "id": "PxpLDynC6bgO"
      }
    },
    {
      "cell_type": "code",
      "source": [
        "import pandas as pd\n",
        "\n",
        "\n",
        "gold_prices_df = pd.read_csv('gold_prices.csv', header=2)\n",
        "car_market_df = pd.read_csv('car_market.csv', header=2)\n",
        "\n",
        "\n",
        "print(gold_prices_df.head())\n",
        "print(car_market_df.head())\n",
        "\n",
        "# Renaming the columns to make them more descriptive\n",
        "gold_prices_df.columns = ['Date', 'Gold_Prices_Search_Interest']\n",
        "car_market_df.columns = ['Date', 'Car_Market_Search_Interest']\n",
        "\n",
        "print(gold_prices_df.head())\n",
        "print(car_market_df.head())"
      ],
      "metadata": {
        "colab": {
          "base_uri": "https://localhost:8080/"
        },
        "id": "Az4_sCEtEfZT",
        "outputId": "ced4324a-3ffb-42bf-fde3-58daa800737e"
      },
      "execution_count": 14,
      "outputs": [
        {
          "output_type": "stream",
          "name": "stdout",
          "text": [
            "     Month  car_market\n",
            "0  2007-07           1\n",
            "1  2007-08           1\n",
            "2  2007-09           0\n",
            "3  2007-10           1\n",
            "4  2007-11           3\n",
            "     Month  car_market\n",
            "0  2007-07           1\n",
            "1  2007-08           1\n",
            "2  2007-09           0\n",
            "3  2007-10           1\n",
            "4  2007-11           3\n",
            "      Date  Gold_Prices_Search_Interest\n",
            "0  2007-07                            1\n",
            "1  2007-08                            1\n",
            "2  2007-09                            0\n",
            "3  2007-10                            1\n",
            "4  2007-11                            3\n",
            "      Date  Car_Market_Search_Interest\n",
            "0  2007-07                           1\n",
            "1  2007-08                           1\n",
            "2  2007-09                           0\n",
            "3  2007-10                           1\n",
            "4  2007-11                           3\n"
          ]
        }
      ]
    },
    {
      "cell_type": "code",
      "source": [
        "# Convert 'Date' column to datetime format\n",
        "gold_prices_df['Date'] = pd.to_datetime(gold_prices_df['Date'], errors='coerce')\n",
        "car_market_df['Date'] = pd.to_datetime(car_market_df['Date'], errors='coerce')\n",
        "\n",
        "# Dropping rows with missing dates if any\n",
        "gold_prices_df.dropna(subset=['Date'], inplace=True)\n",
        "car_market_df.dropna(subset=['Date'], inplace=True)\n",
        "\n",
        "\n",
        "print(gold_prices_df.head())\n",
        "print(car_market_df.head())\n"
      ],
      "metadata": {
        "colab": {
          "base_uri": "https://localhost:8080/"
        },
        "id": "cHBjFK0pF6UM",
        "outputId": "3d103d6f-8151-49bb-bc53-724fa95e09a7"
      },
      "execution_count": 15,
      "outputs": [
        {
          "output_type": "stream",
          "name": "stdout",
          "text": [
            "        Date  Gold_Prices_Search_Interest\n",
            "0 2007-07-01                            1\n",
            "1 2007-08-01                            1\n",
            "2 2007-09-01                            0\n",
            "3 2007-10-01                            1\n",
            "4 2007-11-01                            3\n",
            "        Date  Car_Market_Search_Interest\n",
            "0 2007-07-01                           1\n",
            "1 2007-08-01                           1\n",
            "2 2007-09-01                           0\n",
            "3 2007-10-01                           1\n",
            "4 2007-11-01                           3\n"
          ]
        }
      ]
    },
    {
      "cell_type": "code",
      "source": [
        "combined_trends_df = pd.merge(gold_prices_df, car_market_df, on='Date', how='outer')\n",
        "\n",
        "# Preview combined Google Trends data\n",
        "print(combined_trends_df.head())"
      ],
      "metadata": {
        "colab": {
          "base_uri": "https://localhost:8080/"
        },
        "id": "a964e5AdHhSt",
        "outputId": "ad616ec5-8343-4c38-b419-cda310e0c521"
      },
      "execution_count": 16,
      "outputs": [
        {
          "output_type": "stream",
          "name": "stdout",
          "text": [
            "        Date  Gold_Prices_Search_Interest  Car_Market_Search_Interest\n",
            "0 2007-07-01                            1                           1\n",
            "1 2007-08-01                            1                           1\n",
            "2 2007-09-01                            0                           0\n",
            "3 2007-10-01                            1                           1\n",
            "4 2007-11-01                            3                           3\n"
          ]
        }
      ]
    },
    {
      "cell_type": "code",
      "source": [
        "final_dataset.rename(columns={'date': 'Date'}, inplace=True)\n",
        "combined_trends_df.rename(columns={'date': 'Date'}, inplace=True)\n",
        "\n",
        "# Ensuring that 'Date' columns are in datetime format in both DataFrames\n",
        "final_dataset['Date'] = pd.to_datetime(final_dataset['Date'])\n",
        "combined_trends_df['Date'] = pd.to_datetime(combined_trends_df['Date'])\n",
        "\n",
        "merged_df = pd.merge(final_dataset, combined_trends_df, on='Date', how='left')\n",
        "\n",
        "# Fill any missing values with 0\n",
        "merged_df.fillna(0, inplace=True)\n",
        "\n",
        "# Preview the final merged dataset\n",
        "print(merged_df.head())\n",
        "\n",
        "# saving this dataset for further modeling\n",
        "merged_df.to_csv(\"merged_df.csv\", index=False)"
      ],
      "metadata": {
        "colab": {
          "base_uri": "https://localhost:8080/"
        },
        "id": "SIA6uOLsHpMi",
        "outputId": "cf991479-382e-4e69-85a0-f3f8d342415e"
      },
      "execution_count": 17,
      "outputs": [
        {
          "output_type": "stream",
          "name": "stdout",
          "text": [
            "        Date         GDP  Arts & Entertainment  Health  Reference  Finance  \\\n",
            "0 2007-07-01  188.362251                    48      20         23       12   \n",
            "1 2007-08-01  211.070833                    50      19         23       12   \n",
            "2 2007-09-01  194.546916                    41      17         22       11   \n",
            "3 2007-10-01  184.281476                    40      19         25       11   \n",
            "4 2007-11-01  219.769682                    41      22         30       13   \n",
            "\n",
            "   Online Communities  Real Estate  Business & Industrial  Food & Drink  \\\n",
            "0                  16           17                     38            17   \n",
            "1                  16           15                     34            17   \n",
            "2                  15           15                     32            19   \n",
            "3                  15           14                     34            18   \n",
            "4                  14           17                     39            17   \n",
            "\n",
            "   Gold_Prices_Search_Interest  Car_Market_Search_Interest  \n",
            "0                            1                           1  \n",
            "1                            1                           1  \n",
            "2                            0                           0  \n",
            "3                            1                           1  \n",
            "4                            3                           3  \n"
          ]
        }
      ]
    },
    {
      "cell_type": "markdown",
      "source": [
        "Linear Regression Model Evaluation on Merged Dataset: Performance Metrics and OLS Summary"
      ],
      "metadata": {
        "id": "d5tVF3Wq9JSu"
      }
    },
    {
      "cell_type": "code",
      "source": [
        "import pandas as pd\n",
        "import numpy as np\n",
        "from sklearn.model_selection import train_test_split\n",
        "from sklearn.linear_model import LinearRegression\n",
        "from sklearn.metrics import mean_squared_error, r2_score\n",
        "import statsmodels.api as sm\n",
        "\n",
        "# Load the final dataset\n",
        "merged_df = pd.read_csv(\"merged_df.csv\")\n",
        "\n",
        "# Defining features and target variable\n",
        "X = merged_df.drop(columns=['Date', 'GDP'])\n",
        "y = merged_df['GDP']\n",
        "\n",
        "# Split the data into training and testing sets\n",
        "X_train, X_test, y_train, y_test = train_test_split(X, y, test_size=0.2, random_state=42)\n",
        "\n",
        "# Fit the linear regression model\n",
        "model = LinearRegression()\n",
        "model.fit(X_train, y_train)\n",
        "\n",
        "# Make predictions on the test set\n",
        "y_pred = model.predict(X_test)\n",
        "\n",
        "# Evaluate the model\n",
        "mse = mean_squared_error(y_test, y_pred)\n",
        "r2 = r2_score(y_test, y_pred)\n",
        "\n",
        "print(f\"Mean Squared Error: {mse}\")\n",
        "print(f\"R² Score: {r2}\")\n",
        "\n",
        "# Add a constant to the features for statsmodels\n",
        "X_train_sm = sm.add_constant(X_train)\n",
        "X_test_sm = sm.add_constant(X_test)\n",
        "\n",
        "# Fit the model\n",
        "ols_model = sm.OLS(y_train, X_train_sm).fit()\n",
        "\n",
        "# Print the summary\n",
        "print(ols_model.summary())\n"
      ],
      "metadata": {
        "colab": {
          "base_uri": "https://localhost:8080/"
        },
        "id": "mABcPOgqIRwQ",
        "outputId": "289096ac-4f33-4632-a443-1f456fb7bf78"
      },
      "execution_count": 18,
      "outputs": [
        {
          "output_type": "stream",
          "name": "stdout",
          "text": [
            "Mean Squared Error: 224.6325317618458\n",
            "R² Score: 0.8928152753828066\n",
            "                            OLS Regression Results                            \n",
            "==============================================================================\n",
            "Dep. Variable:                    GDP   R-squared:                       0.880\n",
            "Model:                            OLS   Adj. R-squared:                  0.872\n",
            "Method:                 Least Squares   F-statistic:                     103.0\n",
            "Date:                Tue, 29 Oct 2024   Prob (F-statistic):           9.92e-54\n",
            "Time:                        18:36:20   Log-Likelihood:                -568.35\n",
            "No. Observations:                 136   AIC:                             1157.\n",
            "Df Residuals:                     126   BIC:                             1186.\n",
            "Df Model:                           9                                         \n",
            "Covariance Type:            nonrobust                                         \n",
            "===============================================================================================\n",
            "                                  coef    std err          t      P>|t|      [0.025      0.975]\n",
            "-----------------------------------------------------------------------------------------------\n",
            "const                         206.6664     14.114     14.643      0.000     178.735     234.598\n",
            "Arts & Entertainment           -0.4654      0.223     -2.084      0.039      -0.907      -0.024\n",
            "Health                          1.2520      0.479      2.616      0.010       0.305       2.199\n",
            "Reference                       0.8957      0.376      2.384      0.019       0.152       1.639\n",
            "Finance                        -0.2226      0.298     -0.747      0.457      -0.813       0.367\n",
            "Online Communities              0.1537      0.117      1.314      0.191      -0.078       0.385\n",
            "Real Estate                     0.5996      0.224      2.682      0.008       0.157       1.042\n",
            "Business & Industrial          -0.6008      0.531     -1.131      0.260      -1.652       0.451\n",
            "Food & Drink                   -0.0050      0.231     -0.021      0.983      -0.462       0.452\n",
            "Gold_Prices_Search_Interest     0.0946      0.086      1.101      0.273      -0.075       0.265\n",
            "Car_Market_Search_Interest      0.0946      0.086      1.101      0.273      -0.075       0.265\n",
            "==============================================================================\n",
            "Omnibus:                        4.066   Durbin-Watson:                   2.107\n",
            "Prob(Omnibus):                  0.131   Jarque-Bera (JB):                3.611\n",
            "Skew:                           0.303   Prob(JB):                        0.164\n",
            "Kurtosis:                       3.519   Cond. No.                     7.17e+16\n",
            "==============================================================================\n",
            "\n",
            "Notes:\n",
            "[1] Standard Errors assume that the covariance matrix of the errors is correctly specified.\n",
            "[2] The smallest eigenvalue is 6.27e-28. This might indicate that there are\n",
            "strong multicollinearity problems or that the design matrix is singular.\n"
          ]
        }
      ]
    },
    {
      "cell_type": "markdown",
      "source": [
        "Variance Inflation Factor (VIF) Calculation for Feature Multicollinearity Assessment"
      ],
      "metadata": {
        "id": "fxgGr1k49Z8K"
      }
    },
    {
      "cell_type": "code",
      "source": [
        "from statsmodels.stats.outliers_influence import variance_inflation_factor\n",
        "\n",
        "# Calculate VIF for each feature\n",
        "vif_data = pd.DataFrame()\n",
        "vif_data['Feature'] = X.columns\n",
        "vif_data['VIF'] = [variance_inflation_factor(X.values, i) for i in range(X.shape[1])]\n",
        "\n",
        "# Display the VIF DataFrame\n",
        "print(vif_data)\n"
      ],
      "metadata": {
        "colab": {
          "base_uri": "https://localhost:8080/"
        },
        "id": "qD9TvmiUQZc1",
        "outputId": "dcb9b650-01b1-43ff-c1eb-3dad44736d0c"
      },
      "execution_count": 19,
      "outputs": [
        {
          "output_type": "stream",
          "name": "stdout",
          "text": [
            "                       Feature         VIF\n",
            "0         Arts & Entertainment   67.225401\n",
            "1                       Health  253.164301\n",
            "2                    Reference  209.573406\n",
            "3                      Finance   49.653024\n",
            "4           Online Communities   13.490485\n",
            "5                  Real Estate   53.899597\n",
            "6        Business & Industrial  338.973662\n",
            "7                 Food & Drink   99.946985\n",
            "8  Gold_Prices_Search_Interest         inf\n",
            "9   Car_Market_Search_Interest         inf\n"
          ]
        },
        {
          "output_type": "stream",
          "name": "stderr",
          "text": [
            "/usr/local/lib/python3.10/dist-packages/statsmodels/stats/outliers_influence.py:197: RuntimeWarning: divide by zero encountered in scalar divide\n",
            "  vif = 1. / (1. - r_squared_i)\n"
          ]
        }
      ]
    },
    {
      "cell_type": "markdown",
      "source": [
        "Linear Regression Model Refinement by Removing Features with High Multicollinearity"
      ],
      "metadata": {
        "id": "yJNi7UJb9pEP"
      }
    },
    {
      "cell_type": "code",
      "source": [
        "# Drop features with high multicollinearity\n",
        "X_reduced = X.drop(columns=['Gold_Prices_Search_Interest', 'Car_Market_Search_Interest', 'Health', 'Reference', 'Business & Industrial'])\n",
        "\n",
        "\n",
        "X_train_reduced, X_test_reduced, y_train_reduced, y_test_reduced = train_test_split(X_reduced, y, test_size=0.2, random_state=42)\n",
        "\n",
        "# Fitting the linear regression model again\n",
        "model_reduced = LinearRegression()\n",
        "model_reduced.fit(X_train_reduced, y_train_reduced)\n",
        "\n",
        "# Make predictions on the test set\n",
        "y_pred_reduced = model_reduced.predict(X_test_reduced)\n",
        "\n",
        "# Evaluate the model\n",
        "mse_reduced = mean_squared_error(y_test_reduced, y_pred_reduced)\n",
        "r2_reduced = r2_score(y_test_reduced, y_pred_reduced)\n",
        "\n",
        "print(f\"Mean Squared Error (Reduced Model): {mse_reduced}\")\n",
        "print(f\"R² Score (Reduced Model): {r2_reduced}\")\n",
        "\n",
        "# OLS summary\n",
        "X_train_reduced_sm = sm.add_constant(X_train_reduced)\n",
        "ols_model_reduced = sm.OLS(y_train_reduced, X_train_reduced_sm).fit()\n",
        "print(ols_model_reduced.summary())\n"
      ],
      "metadata": {
        "colab": {
          "base_uri": "https://localhost:8080/"
        },
        "id": "YuPucO1uQqWl",
        "outputId": "0d29210b-f176-43d5-ce98-a42304b0e721"
      },
      "execution_count": 20,
      "outputs": [
        {
          "output_type": "stream",
          "name": "stdout",
          "text": [
            "Mean Squared Error (Reduced Model): 344.37253489262656\n",
            "R² Score (Reduced Model): 0.835680633483113\n",
            "                            OLS Regression Results                            \n",
            "==============================================================================\n",
            "Dep. Variable:                    GDP   R-squared:                       0.834\n",
            "Model:                            OLS   Adj. R-squared:                  0.827\n",
            "Method:                 Least Squares   F-statistic:                     130.5\n",
            "Date:                Tue, 29 Oct 2024   Prob (F-statistic):           6.67e-49\n",
            "Time:                        18:36:20   Log-Likelihood:                -590.69\n",
            "No. Observations:                 136   AIC:                             1193.\n",
            "Df Residuals:                     130   BIC:                             1211.\n",
            "Df Model:                           5                                         \n",
            "Covariance Type:            nonrobust                                         \n",
            "========================================================================================\n",
            "                           coef    std err          t      P>|t|      [0.025      0.975]\n",
            "----------------------------------------------------------------------------------------\n",
            "const                  234.2679     11.657     20.097      0.000     211.206     257.330\n",
            "Arts & Entertainment    -0.8725      0.225     -3.886      0.000      -1.317      -0.428\n",
            "Finance                  0.6311      0.184      3.423      0.001       0.266       0.996\n",
            "Online Communities       0.0633      0.127      0.498      0.619      -0.188       0.314\n",
            "Real Estate              0.5771      0.222      2.601      0.010       0.138       1.016\n",
            "Food & Drink             0.9006      0.190      4.744      0.000       0.525       1.276\n",
            "==============================================================================\n",
            "Omnibus:                        0.152   Durbin-Watson:                   2.222\n",
            "Prob(Omnibus):                  0.927   Jarque-Bera (JB):                0.056\n",
            "Skew:                           0.050   Prob(JB):                        0.972\n",
            "Kurtosis:                       3.007   Cond. No.                         832.\n",
            "==============================================================================\n",
            "\n",
            "Notes:\n",
            "[1] Standard Errors assume that the covariance matrix of the errors is correctly specified.\n"
          ]
        }
      ]
    },
    {
      "cell_type": "markdown",
      "source": [
        "Visualizing Model Performance: Actual vs. Predicted GDP Scatter Plot"
      ],
      "metadata": {
        "id": "sC6X08_S6-m4"
      }
    },
    {
      "cell_type": "code",
      "source": [
        "import matplotlib.pyplot as plt\n",
        "import seaborn as sns\n",
        "\n",
        "# Combine actual and predicted values into a DataFrame for easier plotting\n",
        "results_df = pd.DataFrame({\n",
        "    'Actual GDP': y_test,\n",
        "    'Predicted GDP': y_pred\n",
        "})\n",
        "\n",
        "# Create the scatter plot\n",
        "plt.figure(figsize=(10, 6))\n",
        "sns.scatterplot(data=results_df, x='Actual GDP', y='Predicted GDP', alpha=0.6)\n",
        "\n",
        "# Add a line for perfect predictions\n",
        "plt.plot([results_df['Actual GDP'].min(), results_df['Actual GDP'].max()],\n",
        "         [results_df['Actual GDP'].min(), results_df['Actual GDP'].max()],\n",
        "         color='red', linestyle='--')\n",
        "\n",
        "# Set the labels and title\n",
        "plt.xlabel('Actual GDP')\n",
        "plt.ylabel('Predicted GDP')\n",
        "plt.title('Actual vs. Predicted GDP')\n",
        "plt.xlim(results_df['Actual GDP'].min() - 10, results_df['Actual GDP'].max() + 10)\n",
        "plt.ylim(results_df['Actual GDP'].min() - 10, results_df['Actual GDP'].max() + 10)\n",
        "plt.grid()\n",
        "plt.show()\n"
      ],
      "metadata": {
        "colab": {
          "base_uri": "https://localhost:8080/",
          "height": 564
        },
        "id": "MqJnH-D6RYSG",
        "outputId": "a09ee7c2-d31d-4d60-cc48-95a56e056bde"
      },
      "execution_count": 21,
      "outputs": [
        {
          "output_type": "display_data",
          "data": {
            "text/plain": [
              "<Figure size 1000x600 with 1 Axes>"
            ],
            "image/png": "[encoded data removed]"
          },
          "metadata": {}
        }
      ]
    },
    {
      "cell_type": "markdown",
      "source": [
        "Linear Regression Model Implementation on Final GDP Dataset: Training, Evaluation, and Performance Metrics"
      ],
      "metadata": {
        "id": "UsV9J7iY8rqX"
      }
    },
    {
      "cell_type": "code",
      "source": [
        "# Load the original final dataset (with all features)\n",
        "final_dataset = pd.read_csv(\"final_dataset.csv\")\n",
        "\n",
        "# Define features and target variable\n",
        "X = final_dataset.drop(columns=['date', 'GDP'])  # Include all features\n",
        "y = final_dataset['GDP']\n",
        "\n",
        "# Split the data into training and testing sets\n",
        "X_train, X_test, y_train, y_test = train_test_split(X, y, test_size=0.2, random_state=42)\n",
        "\n",
        "# Fit the linear regression model\n",
        "model = LinearRegression()\n",
        "model.fit(X_train, y_train)\n",
        "\n",
        "# Make predictions on the test set\n",
        "y_pred = model.predict(X_test)\n",
        "\n",
        "# Calculate Mean Squared Error and R² Score\n",
        "mse_all = mean_squared_error(y_test, y_pred)\n",
        "r2_all = r2_score(y_test, y_pred)\n",
        "\n",
        "print(f\"Mean Squared Error (All Features): {mse_all}\")\n",
        "print(f\"R² Score (All Features): {r2_all}\")\n"
      ],
      "metadata": {
        "colab": {
          "base_uri": "https://localhost:8080/"
        },
        "id": "yw_Y89UgSGXH",
        "outputId": "23077554-41fb-4469-af67-f6578f15f0ee"
      },
      "execution_count": 22,
      "outputs": [
        {
          "output_type": "stream",
          "name": "stdout",
          "text": [
            "Mean Squared Error (All Features): 248.14441599058446\n",
            "R² Score (All Features): 0.8815964424892678\n"
          ]
        }
      ]
    },
    {
      "cell_type": "markdown",
      "source": [
        "Visualization of Actual vs. Predicted GDP Using Scatter Plot: Evaluation of Linear Regression Model Performance"
      ],
      "metadata": {
        "id": "OaYWTFWM830w"
      }
    },
    {
      "cell_type": "code",
      "source": [
        "import matplotlib.pyplot as plt\n",
        "import seaborn as sns\n",
        "\n",
        "# Combine actual and predicted values into a DataFrame for easier plotting\n",
        "results_df_all = pd.DataFrame({\n",
        "    'Actual GDP': y_test,\n",
        "    'Predicted GDP': y_pred\n",
        "})\n",
        "\n",
        "# Create the scatter plot\n",
        "plt.figure(figsize=(10, 6))\n",
        "sns.scatterplot(data=results_df_all, x='Actual GDP', y='Predicted GDP', alpha=0.6)\n",
        "\n",
        "# Add a line for perfect predictions\n",
        "plt.plot([results_df_all['Actual GDP'].min(), results_df_all['Actual GDP'].max()],\n",
        "         [results_df_all['Actual GDP'].min(), results_df_all['Actual GDP'].max()],\n",
        "         color='red', linestyle='--')\n",
        "\n",
        "# Set the labels and title\n",
        "plt.xlabel('Actual GDP')\n",
        "plt.ylabel('Predicted GDP')\n",
        "plt.title('Actual vs. Predicted GDP (All Features)')\n",
        "plt.xlim(results_df_all['Actual GDP'].min() - 10, results_df_all['Actual GDP'].max() + 10)\n",
        "plt.ylim(results_df_all['Actual GDP'].min() - 10, results_df_all['Actual GDP'].max() + 10)\n",
        "plt.grid()\n",
        "plt.show()\n"
      ],
      "metadata": {
        "colab": {
          "base_uri": "https://localhost:8080/",
          "height": 564
        },
        "id": "SkCFnrqdSOt-",
        "outputId": "89575cb8-b46d-4efd-f87e-a9b8324327b9"
      },
      "execution_count": 23,
      "outputs": [
        {
          "output_type": "display_data",
          "data": {
            "text/plain": [
              "<Figure size 1000x600 with 1 Axes>"
            ],
            "image/png": "[encoded data removed]"
          },
          "metadata": {}
        }
      ]
    },
    {
      "cell_type": "markdown",
      "source": [
        "# Summary table for comparison"
      ],
      "metadata": {
        "id": "IagjUI5499gW"
      }
    },
    {
      "cell_type": "code",
      "source": [
        "metrics_comparison = {\n",
        "    'Model': ['Full Model', 'Reduced Model'],\n",
        "    'Mean Squared Error': [mse_all, mse_reduced],\n",
        "    'R² Score': [r2_all, r2_reduced],\n",
        "\n",
        "}\n",
        "\n",
        "metrics_df = pd.DataFrame(metrics_comparison)\n",
        "print(metrics_df)\n"
      ],
      "metadata": {
        "colab": {
          "base_uri": "https://localhost:8080/"
        },
        "id": "Iexx3CT9SrrH",
        "outputId": "04b96846-f721-49b6-f828-99d686d2b320"
      },
      "execution_count": 24,
      "outputs": [
        {
          "output_type": "stream",
          "name": "stdout",
          "text": [
            "           Model  Mean Squared Error  R² Score\n",
            "0     Full Model          248.144416  0.881596\n",
            "1  Reduced Model          344.372535  0.835681\n"
          ]
        }
      ]
    },
    {
      "cell_type": "markdown",
      "source": [
        "Evaluating Model Accuracy"
      ],
      "metadata": {
        "id": "BtgPV5uS-GpC"
      }
    },
    {
      "cell_type": "code",
      "source": [
        "from sklearn.metrics import mean_absolute_error, mean_squared_error, r2_score\n",
        "import numpy as np\n",
        "\n",
        "# Make predictions on the test set\n",
        "y_pred = model.predict(X_test)\n",
        "\n",
        "# Calculate metrics\n",
        "mae = mean_absolute_error(y_test, y_pred)\n",
        "mse = mean_squared_error(y_test, y_pred)\n",
        "r2 = r2_score(y_test, y_pred)\n",
        "\n",
        "# Calculate MAPE\n",
        "mape = np.mean(np.abs((y_test - y_pred) / y_test)) * 100\n",
        "\n",
        "print(f\"Mean Absolute Error: {mae}\")\n",
        "print(f\"Mean Squared Error: {mse}\")\n",
        "print(f\"R² Score: {r2}\")\n",
        "print(f\"Mean Absolute Percentage Error: {mape}%\")\n"
      ],
      "metadata": {
        "colab": {
          "base_uri": "https://localhost:8080/"
        },
        "id": "PP7hVNrwUmNN",
        "outputId": "c8fd93d1-eac9-46c4-fddd-9006e05ab592"
      },
      "execution_count": 25,
      "outputs": [
        {
          "output_type": "stream",
          "name": "stdout",
          "text": [
            "Mean Absolute Error: 11.964158024777715\n",
            "Mean Squared Error: 248.14441599058446\n",
            "R² Score: 0.8815964424892678\n",
            "Mean Absolute Percentage Error: 4.452238559471698%\n"
          ]
        }
      ]
    },
    {
      "cell_type": "markdown",
      "source": [
        "GDP Nowcasting Using SVM Regression with Hyperparameter Tuning"
      ],
      "metadata": {
        "id": "IwEPCMXB7nJX"
      }
    },
    {
      "cell_type": "code",
      "source": [
        "import numpy as np\n",
        "import pandas as pd\n",
        "import matplotlib.pyplot as plt\n",
        "from sklearn.model_selection import train_test_split\n",
        "from sklearn.svm import SVR\n",
        "from sklearn.metrics import mean_squared_error, r2_score\n",
        "from sklearn.pipeline import Pipeline\n",
        "from sklearn.preprocessing import StandardScaler\n",
        "\n",
        "# Assuming merged_df is your DataFrame with features and target GDP\n",
        "X = merged_df.drop(columns=['Date', 'GDP'])  # Adjust column names as needed\n",
        "y = merged_df['GDP']\n",
        "\n",
        "X_train, X_test, y_train, y_test = train_test_split(X, y, test_size=0.2, random_state=42)\n",
        "\n",
        "# Initialize the Support Vector Regressor\n",
        "svm_model = SVR(kernel='rbf')  # You can experiment with different kernels (linear, polynomial, etc.)\n",
        "\n",
        "# Fit the model\n",
        "svm_model.fit(X_train, y_train)\n",
        "\n",
        "y_pred = svm_model.predict(X_test)\n",
        "\n",
        "# Calculate Mean Squared Error and R² Score\n",
        "mse = mean_squared_error(y_test, y_pred)\n",
        "r2 = r2_score(y_test, y_pred)\n",
        "\n",
        "print(f'Mean Squared Error (SVM): {mse}')\n",
        "print(f'R² Score (SVM): {r2}')\n",
        "\n",
        "plt.scatter(y_test, y_pred)\n",
        "plt.plot([y.min(), y.max()], [y.min(), y.max()], '--r')\n",
        "plt.xlabel('Actual GDP')\n",
        "plt.ylabel('Predicted GDP')\n",
        "plt.title('Actual vs Predicted GDP using SVM')\n",
        "plt.show()\n",
        "\n",
        "\n",
        "# Scale the features and use SVR\n",
        "pipeline = make_pipeline(StandardScaler(), SVR())\n",
        "\n",
        "# Define the parameter grid for hyperparameter tuning\n",
        "param_grid = {\n",
        "    'svr__C': [0.1, 1, 10, 100],\n",
        "    'svr__gamma': ['scale', 'auto', 0.1, 1],\n",
        "    'svr__kernel': ['linear', 'rbf', 'poly']\n",
        "}\n",
        "\n",
        "# Implement Grid Search\n",
        "grid_search = GridSearchCV(pipeline, param_grid, cv=5)\n",
        "grid_search.fit(X_train, y_train)\n",
        "\n",
        "# Get the best parameters and evaluate\n",
        "best_model = grid_search.best_estimator_\n",
        "y_pred = best_model.predict(X_test)\n",
        "\n",
        "# Evaluate the model\n",
        "mse = mean_squared_error(y_test, y_pred)\n",
        "r2 = r2_score(y_test, y_pred)\n",
        "\n",
        "print(f\"Best Parameters: {grid_search.best_params_}\")\n",
        "print(f\"Mean Squared Error (SVM): {mse}\")\n",
        "print(f\"R² Score (SVM): {r2}\")\n"
      ],
      "metadata": {
        "colab": {
          "base_uri": "https://localhost:8080/",
          "height": 559
        },
        "id": "5JRcH8FoYxUi",
        "outputId": "095f301e-a824-4253-c800-94774d357cd6"
      },
      "execution_count": 35,
      "outputs": [
        {
          "output_type": "stream",
          "name": "stdout",
          "text": [
            "Mean Squared Error (SVM): 819.8144064496137\n",
            "R² Score (SVM): 0.6088207673959232\n"
          ]
        },
        {
          "output_type": "display_data",
          "data": {
            "text/plain": [
              "<Figure size 640x480 with 1 Axes>"
            ],
            "image/png": "[encoded data removed]"
          },
          "metadata": {}
        },
        {
          "output_type": "stream",
          "name": "stdout",
          "text": [
            "Best Parameters: {'svr__C': 100, 'svr__gamma': 'scale', 'svr__kernel': 'linear'}\n",
            "Mean Squared Error (SVM): 222.47453100778714\n",
            "R² Score (SVM): 0.8938449780475688\n"
          ]
        }
      ]
    },
    {
      "cell_type": "markdown",
      "source": [
        "Optimizing Support Vector Regression (SVR) for GDP Prediction Using Grid Search Hyperparameter Tuning"
      ],
      "metadata": {
        "id": "bMC_wZ2k7yNl"
      }
    },
    {
      "cell_type": "code",
      "source": [
        "from sklearn.svm import SVR\n",
        "from sklearn.preprocessing import StandardScaler\n",
        "from sklearn.pipeline import make_pipeline\n",
        "from sklearn.model_selection import GridSearchCV\n",
        "\n",
        "# Scale the features and use SVR\n",
        "pipeline = make_pipeline(StandardScaler(), SVR())\n",
        "\n",
        "# Define the parameter grid for hyperparameter tuning\n",
        "param_grid = {\n",
        "    'svr__C': [0.1, 1, 10, 100],\n",
        "    'svr__gamma': ['scale', 'auto', 0.1, 1],\n",
        "    'svr__kernel': ['linear', 'rbf', 'poly']\n",
        "}\n",
        "\n",
        "# Implement Grid Search\n",
        "grid_search = GridSearchCV(pipeline, param_grid, cv=5)\n",
        "grid_search.fit(X_train, y_train)\n",
        "\n",
        "# Get the best parameters and evaluate\n",
        "best_model = grid_search.best_estimator_\n",
        "y_pred = best_model.predict(X_test)\n",
        "\n",
        "# Evaluate the model\n",
        "mse = mean_squared_error(y_test, y_pred)\n",
        "r2 = r2_score(y_test, y_pred)\n",
        "\n",
        "print(f\"Best Parameters: {grid_search.best_params_}\")\n",
        "print(f\"Mean Squared Error (SVM): {mse}\")\n",
        "print(f\"R² Score (SVM): {r2}\")\n"
      ],
      "metadata": {
        "colab": {
          "base_uri": "https://localhost:8080/"
        },
        "id": "efxWaPIIaMwA",
        "outputId": "d5741166-e472-4544-c143-594bde746bfc"
      },
      "execution_count": 29,
      "outputs": [
        {
          "output_type": "stream",
          "name": "stdout",
          "text": [
            "Best Parameters: {'svr__C': 100, 'svr__gamma': 'scale', 'svr__kernel': 'linear'}\n",
            "Mean Squared Error (SVM): 222.47453100778714\n",
            "R² Score (SVM): 0.8938449780475688\n"
          ]
        }
      ]
    },
    {
      "cell_type": "markdown",
      "source": [
        "Evaluating GDP Prediction Using a Random Forest Regressor Model"
      ],
      "metadata": {
        "id": "4twRyF8j76Po"
      }
    },
    {
      "cell_type": "code",
      "source": [
        "from sklearn.ensemble import RandomForestRegressor\n",
        "from sklearn.metrics import mean_squared_error, r2_score\n",
        "\n",
        "# Initialize and fit the model\n",
        "rf_model = RandomForestRegressor(n_estimators=100, random_state=42)\n",
        "rf_model.fit(X_train, y_train)\n",
        "\n",
        "# Make predictions\n",
        "rf_predictions = rf_model.predict(X_test)\n",
        "\n",
        "# Evaluate the model\n",
        "rf_mse = mean_squared_error(y_test, rf_predictions)\n",
        "rf_r2 = r2_score(y_test, rf_predictions)\n",
        "\n",
        "print(f\"Mean Squared Error (Random Forest): {rf_mse}\")\n",
        "print(f\"R² Score (Random Forest): {rf_r2}\")\n"
      ],
      "metadata": {
        "colab": {
          "base_uri": "https://localhost:8080/"
        },
        "id": "Ig-x16vWbi9b",
        "outputId": "9d6d49b0-ea87-4216-8563-1996a91d2c78"
      },
      "execution_count": 30,
      "outputs": [
        {
          "output_type": "stream",
          "name": "stdout",
          "text": [
            "Mean Squared Error (Random Forest): 289.32015672849207\n",
            "R² Score (Random Forest): 0.8619491972871318\n"
          ]
        }
      ]
    },
    {
      "cell_type": "markdown",
      "source": [
        "GDP Prediction Using Elastic Net Regression Model with Performance Evaluation"
      ],
      "metadata": {
        "id": "8JR3aL6x8CfO"
      }
    },
    {
      "cell_type": "code",
      "source": [
        "from sklearn.linear_model import ElasticNet\n",
        "\n",
        "# Initialize and fit the model\n",
        "elastic_net_model = ElasticNet(alpha=1.0, l1_ratio=0.5, random_state=42)\n",
        "elastic_net_model.fit(X_train, y_train)\n",
        "\n",
        "# Make predictions\n",
        "en_predictions = elastic_net_model.predict(X_test)\n",
        "\n",
        "# Evaluate the model\n",
        "en_mse = mean_squared_error(y_test, en_predictions)\n",
        "en_r2 = r2_score(y_test, en_predictions)\n",
        "\n",
        "print(f\"Mean Squared Error (Elastic Net): {en_mse}\")\n",
        "print(f\"R² Score (Elastic Net): {en_r2}\")\n"
      ],
      "metadata": {
        "colab": {
          "base_uri": "https://localhost:8080/"
        },
        "id": "mpdawIAwbkeB",
        "outputId": "b922f634-36bf-4daf-c717-e2c20aa8cc77"
      },
      "execution_count": 31,
      "outputs": [
        {
          "output_type": "stream",
          "name": "stdout",
          "text": [
            "Mean Squared Error (Elastic Net): 225.10487132236554\n",
            "R² Score (Elastic Net): 0.8925898958025515\n"
          ]
        }
      ]
    },
    {
      "cell_type": "markdown",
      "source": [
        "Model Comparison Table for GDP Prediction: SVM, Random Forest, and Elastic Net with Performance Metrics"
      ],
      "metadata": {
        "id": "iX1DFVkP8PXp"
      }
    },
    {
      "cell_type": "code",
      "source": [
        "import pandas as pd\n",
        "\n",
        "# Store the results\n",
        "results = {\n",
        "    'Model': ['SVM', 'Random Forest', 'Elastic Net'],\n",
        "    'Mean Squared Error': [222.47453100778714, rf_mse, en_mse],\n",
        "    'R² Score': [0.8938449780475688, rf_r2, en_r2]\n",
        "}\n",
        "\n",
        "results_df = pd.DataFrame(results)\n",
        "print(results_df)\n"
      ],
      "metadata": {
        "colab": {
          "base_uri": "https://localhost:8080/"
        },
        "id": "kx3FFE7OcB2-",
        "outputId": "4107e120-a253-49f9-cf2a-f13a1e02f561"
      },
      "execution_count": 32,
      "outputs": [
        {
          "output_type": "stream",
          "name": "stdout",
          "text": [
            "           Model  Mean Squared Error  R² Score\n",
            "0            SVM          222.474531  0.893845\n",
            "1  Random Forest          289.320157  0.861949\n",
            "2    Elastic Net          225.104871  0.892590\n"
          ]
        }
      ]
    },
    {
      "cell_type": "markdown",
      "source": [
        "Support Vector Regression Pipeline for Final GDP Prediction: Model Fitting and Evaluation"
      ],
      "metadata": {
        "id": "yKe_HQ_e8Zrh"
      }
    },
    {
      "cell_type": "code",
      "source": [
        "from sklearn.svm import SVR\n",
        "from sklearn.pipeline import Pipeline\n",
        "from sklearn.preprocessing import StandardScaler\n",
        "\n",
        "# Create a pipeline with scaling and SVM\n",
        "svm_pipeline = Pipeline([\n",
        "    ('scaler', StandardScaler()),\n",
        "    ('svr', SVR(C=100, gamma='scale', kernel='linear'))\n",
        "])\n",
        "\n",
        "# Fit the model on the full dataset\n",
        "svm_pipeline.fit(X, y)  # X and y from your final dataset\n",
        "# Make predictions\n",
        "predictions = svm_pipeline.predict(X)  # Use the same X for making predictions\n",
        "\n",
        "# Calculate Mean Squared Error and R² Score\n",
        "mse_final = mean_squared_error(y, predictions)\n",
        "r2_final = r2_score(y, predictions)\n",
        "\n",
        "print(f\"Final Mean Squared Error (SVM): {mse_final}\")\n",
        "print(f\"Final R² Score (SVM): {r2_final}\")\n"
      ],
      "metadata": {
        "colab": {
          "base_uri": "https://localhost:8080/"
        },
        "id": "S9u9punWqcDS",
        "outputId": "23fff5fb-8367-4e30-f4bf-012d27402538"
      },
      "execution_count": 33,
      "outputs": [
        {
          "output_type": "stream",
          "name": "stdout",
          "text": [
            "Final Mean Squared Error (SVM): 250.48693096006897\n",
            "Final R² Score (SVM): 0.8801112739141084\n"
          ]
        }
      ]
    }
  ]
}